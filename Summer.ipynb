{
  "nbformat": 4,
  "nbformat_minor": 0,
  "metadata": {
    "colab": {
      "name": "Summer.ipynb",
      "provenance": [],
      "collapsed_sections": [],
      "authorship_tag": "ABX9TyOFZ3yd8tz6HPhpmGxlLw84",
      "include_colab_link": true
    },
    "kernelspec": {
      "display_name": "Python 3",
      "name": "python3"
    },
    "language_info": {
      "name": "python"
    }
  },
  "cells": [
    {
      "cell_type": "markdown",
      "metadata": {
        "id": "view-in-github",
        "colab_type": "text"
      },
      "source": [
        "<a href=\"https://colab.research.google.com/github/Mohil224/ETF_IMS_USING_JSON/blob/main/Summer.ipynb\" target=\"_parent\"><img src=\"https://colab.research.google.com/assets/colab-badge.svg\" alt=\"Open In Colab\"/></a>"
      ]
    },
    {
      "cell_type": "code",
      "metadata": {
        "id": "sDQxGjpxGBAb"
      },
      "source": [
        "import pandas as pd\n",
        "df = pd.read_csv(\"summer.csv\")"
      ],
      "execution_count": 2,
      "outputs": []
    },
    {
      "cell_type": "markdown",
      "metadata": {
        "id": "2cLv5atEFrln"
      },
      "source": [
        "### 1.In how Many cities Summer Olympics is held so far?"
      ]
    },
    {
      "cell_type": "code",
      "metadata": {
        "colab": {
          "base_uri": "https://localhost:8080/"
        },
        "id": "OIVd8lOqF4-P",
        "outputId": "65d18292-3373-46e2-9326-2dbeda2dc50c"
      },
      "source": [
        "print(\"Number of cities in which olympics is held so far : \",len(df['City'].unique()))"
      ],
      "execution_count": 3,
      "outputs": [
        {
          "output_type": "stream",
          "name": "stdout",
          "text": [
            "Number of cities in which olympics is held so far :  22\n"
          ]
        }
      ]
    },
    {
      "cell_type": "markdown",
      "metadata": {
        "id": "HqkFk9dfGP2e"
      },
      "source": [
        "### 2.Which sport is having most number of Gold medals so far?(Top 5)"
      ]
    },
    {
      "cell_type": "code",
      "metadata": {
        "colab": {
          "base_uri": "https://localhost:8080/",
          "height": 435
        },
        "id": "yVjSQ1Cwqb3E",
        "outputId": "eded473a-a16d-46c6-e36e-5c135bddbfda"
      },
      "source": [
        "import pandas as pd\n",
        "df = pd.read_csv(\"summer.csv\")\n",
        "graph=[]\n",
        "lst=[]\n",
        "data = df.values\n",
        "for sports in df['Sport'].unique():\n",
        "    var=0\n",
        "    for i in range(len(data)):\n",
        "        if (data[i][2]==sports ):\n",
        "            if(data[i][8]=='Gold'):\n",
        "                pr = data[i][8]\n",
        "                var+=1\n",
        "            \n",
        "    lst.append([sports,var])\n",
        "# pd.DataFrame(lst,columns=['Sport','Medal']).sort_values(by='Medal',ascending=False).plot(x='Sport',y='Medal',kind='bar')\n",
        "graph= pd.DataFrame(lst,columns=['Sport','Gold Medal'])\n",
        "graph = graph.sort_values(by='Gold Medal',ascending=False).head()\n",
        "graph.plot(x='Sport',y='Gold Medal',kind='bar',color=\"Orange\")\n",
        "print(graph)"
      ],
      "execution_count": 5,
      "outputs": [
        {
          "output_type": "stream",
          "name": "stdout",
          "text": [
            "         Sport  Gold Medal\n",
            "0     Aquatics        1421\n",
            "1    Athletics        1215\n",
            "17      Rowing         890\n",
            "4   Gymnastics         820\n",
            "3      Fencing         552\n"
          ]
        },
        {
          "output_type": "display_data",
          "data": {
            "image/png": "[encoded data removed]",
            "text/plain": [
              "<Figure size 432x288 with 1 Axes>"
            ]
          },
          "metadata": {
            "needs_background": "light"
          }
        }
      ]
    },
    {
      "cell_type": "code",
      "metadata": {
        "id": "lLNcWuF3zBfq"
      },
      "source": [
        ""
      ],
      "execution_count": null,
      "outputs": []
    },
    {
      "cell_type": "markdown",
      "metadata": {
        "id": "QfyDN0wsTkBY"
      },
      "source": [
        "### 3.Which Sport is having most number of medals so far? (Top 5)"
      ]
    },
    {
      "cell_type": "code",
      "metadata": {
        "colab": {
          "base_uri": "https://localhost:8080/",
          "height": 435
        },
        "id": "eiej07rXTvGf",
        "outputId": "8020634e-2043-4a03-ad23-cff263aae64d"
      },
      "source": [
        "graph=[]\n",
        "lst=[]\n",
        "data = df.values\n",
        "for sports in df['Sport'].unique():\n",
        "    var=0\n",
        "    for i in range(len(data)):\n",
        "        if (data[i][2]==sports ):\n",
        "                var+=1\n",
        "            \n",
        "    lst.append([sports,var])\n",
        "# pd.DataFrame(lst,columns=['Sport','Medal']).sort_values(by='Medal',ascending=False).plot(x='Sport',y='Medal',kind='bar')\n",
        "graph= pd.DataFrame(lst,columns=['Sport','Medal'])\n",
        "graph = graph.sort_values(by='Medal',ascending=False).head()\n",
        "graph.plot(x='Sport',y='Medal',kind='bar')\n",
        "print(graph)"
      ],
      "execution_count": 6,
      "outputs": [
        {
          "output_type": "stream",
          "name": "stdout",
          "text": [
            "         Sport  Medal\n",
            "0     Aquatics   4170\n",
            "1    Athletics   3638\n",
            "17      Rowing   2667\n",
            "4   Gymnastics   2307\n",
            "3      Fencing   1613\n"
          ]
        },
        {
          "output_type": "display_data",
          "data": {
            "image/png": "[encoded data removed]",
            "text/plain": [
              "<Figure size 432x288 with 1 Axes>"
            ]
          },
          "metadata": {
            "needs_background": "light"
          }
        }
      ]
    },
    {
      "cell_type": "markdown",
      "metadata": {
        "id": "VHEFJsNXUDbi"
      },
      "source": [
        "### 4.Which player has won most number of medals(Top 5)"
      ]
    },
    {
      "cell_type": "code",
      "metadata": {
        "colab": {
          "base_uri": "https://localhost:8080/",
          "height": 493
        },
        "id": "OZErTUTnUNar",
        "outputId": "87729ac5-d92f-45c0-b795-98f78ea08b26"
      },
      "source": [
        "graph=[]\n",
        "lst=[]\n",
        "data = df.values\n",
        "for player in df['Athlete'].unique():\n",
        "    var=0\n",
        "    for i in range(len(data)):\n",
        "        if (data[i][4]==player ):\n",
        "                var+=1\n",
        "            \n",
        "    lst.append([player,var])\n",
        "# pd.DataFrame(lst,columns=['Athelete','Medal']).sort_values(by='Medal',ascending=False).plot(x='Athelete',y='Medal',kind='bar')\n",
        "graph= pd.DataFrame(lst,columns=['Athlete','Medal'])\n",
        "graph = graph.sort_values(by='Medal',ascending=False).head()\n",
        "graph.plot(x='Athlete',y='Medal',kind='bar')\n",
        "print(graph)"
      ],
      "execution_count": 7,
      "outputs": [
        {
          "output_type": "stream",
          "name": "stdout",
          "text": [
            "                    Athlete  Medal\n",
            "18640       PHELPS, Michael     22\n",
            "7197       LATYNINA, Larisa     18\n",
            "9948     ANDRIANOV, Nikolay     15\n",
            "6591           ONO, Takashi     13\n",
            "5103   MANGIAROTTI, Edoardo     13\n"
          ]
        },
        {
          "output_type": "display_data",
          "data": {
            "image/png": "[encoded data removed]",
            "text/plain": [
              "<Figure size 432x288 with 1 Axes>"
            ]
          },
          "metadata": {
            "needs_background": "light"
          }
        }
      ]
    },
    {
      "cell_type": "markdown",
      "metadata": {
        "id": "b3kEVBZccVle"
      },
      "source": [
        "### 5.Which player has won most number Gold Medals of medals? (Top 5)"
      ]
    },
    {
      "cell_type": "code",
      "metadata": {
        "colab": {
          "base_uri": "https://localhost:8080/",
          "height": 515
        },
        "id": "ClR-uLIFcjup",
        "outputId": "9316440b-084d-4af0-bb17-6d8c4abca486"
      },
      "source": [
        "graph=[]\n",
        "lst=[]\n",
        "data = df.values\n",
        "for player in df['Athlete'].unique():\n",
        "  var=0\n",
        "  for i in range(len(data)):\n",
        "    if (data[i][4]==player ):\n",
        "      if(data[i][8]=='Gold'):\n",
        "        var+=1 \n",
        "  lst.append([player,var])\n",
        "graph= pd.DataFrame(lst,columns=['Athlete','Gold Medal'])\n",
        "graph = graph.sort_values(by='Gold Medal',ascending=False).head()\n",
        "graph.plot(x='Athlete',y='Gold Medal',kind='bar',color='yellow',figsize=(6,5))\n",
        "print(graph)"
      ],
      "execution_count": 17,
      "outputs": [
        {
          "output_type": "stream",
          "name": "stdout",
          "text": [
            "                Athlete  Gold Medal\n",
            "18640   PHELPS, Michael          18\n",
            "12468       LEWIS, Carl           9\n",
            "8811        SPITZ, Mark           9\n",
            "2262       NURMI, Paavo           9\n",
            "7197   LATYNINA, Larisa           9\n"
          ]
        },
        {
          "output_type": "display_data",
          "data": {
            "image/png": "[encoded data removed]",
            "text/plain": [
              "<Figure size 432x360 with 1 Axes>"
            ]
          },
          "metadata": {
            "needs_background": "light"
          }
        }
      ]
    },
    {
      "cell_type": "markdown",
      "metadata": {
        "id": "lMSVDi6Tv9sr"
      },
      "source": [
        "### 6. In Which Year India Won First Gold Medal?"
      ]
    },
    {
      "cell_type": "code",
      "metadata": {
        "colab": {
          "base_uri": "https://localhost:8080/"
        },
        "id": "FMqpF1AlHwUu",
        "outputId": "14617f86-0805-4a77-9542-55881cc4b4c6"
      },
      "source": [
        "lst=[]\n",
        "data = df.values\n",
        "for indian in df['Year'].unique():\n",
        "    var =0\n",
        "    for i in range(len(data)):\n",
        "        var=0\n",
        "        if(data[i][0]==indian):\n",
        "            if(data[i][5]=='IND'):\n",
        "                if(data[i][8]=='Gold'):\n",
        "                    var+=1\n",
        "                    lst.append([indian,var])\n",
        "                    break\n",
        "    if var==1:\n",
        "        break                      \n",
        "print('India Won First Gold Medal in Year  :',indian)"
      ],
      "execution_count": 13,
      "outputs": [
        {
          "output_type": "stream",
          "name": "stdout",
          "text": [
            "India Won First Gold Medal in Year  : 1928\n"
          ]
        }
      ]
    },
    {
      "cell_type": "markdown",
      "metadata": {
        "id": "2AnhHctaqEzN"
      },
      "source": [
        "### 7. Which Event Is Most Popular in Terms Of Players (Top 5)\n",
        " "
      ]
    },
    {
      "cell_type": "code",
      "metadata": {
        "colab": {
          "base_uri": "https://localhost:8080/",
          "height": 466
        },
        "id": "bSuXrOjVwYSC",
        "outputId": "ab081095-368e-42d2-dd81-1620f1f42ff5"
      },
      "source": [
        "graph=[]\n",
        "lst=[]\n",
        "data = df.values\n",
        "for sports in df['Event'].unique():\n",
        "    var=0\n",
        "    for i in range(len(data)):\n",
        "        if (data[i][7]==sports ):\n",
        "                var+=1  \n",
        "    lst.append([sports,var])\n",
        "graph= pd.DataFrame(lst,columns=['Event','Athlete'])\n",
        "graph = graph.sort_values(by='Athlete',ascending=False).head()\n",
        "graph.plot(x='Event',y='Athlete',kind='bar')\n",
        "print(graph)"
      ],
      "execution_count": 15,
      "outputs": [
        {
          "output_type": "stream",
          "name": "stdout",
          "text": [
            "                Event  Athlete\n",
            "80           Football     1497\n",
            "176            Hockey     1422\n",
            "138  Team Competition     1147\n",
            "327        Basketball     1012\n",
            "337          Handball      973\n"
          ]
        },
        {
          "output_type": "display_data",
          "data": {
            "image/png": "[encoded data removed]",
            "text/plain": [
              "<Figure size 432x288 with 1 Axes>"
            ]
          },
          "metadata": {
            "needs_background": "light"
          }
        }
      ]
    },
    {
      "cell_type": "markdown",
      "metadata": {
        "id": "rjGpkzck2YBc"
      },
      "source": [
        "### 8. which Sport is having most female gold medalist (Top 5)"
      ]
    },
    {
      "cell_type": "code",
      "metadata": {
        "colab": {
          "base_uri": "https://localhost:8080/",
          "height": 435
        },
        "id": "WZRuzXAL2y7X",
        "outputId": "191782d8-129d-4327-81e4-e661c6a8ee3f"
      },
      "source": [
        "g=[]\n",
        "lst=[]\n",
        "data = df.values\n",
        "for indian in df['Sport'].unique():\n",
        "    var=0\n",
        "    for i in range(len(data)):\n",
        "            if(data[i][2]==indian):\n",
        "                if(data[i][6]=='Women'):\n",
        "                    if(data[i][8]=='Gold'):\n",
        "                        var+=1   \n",
        "    lst.append([indian,var])\n",
        "g= pd.DataFrame(lst,columns=['Sport','Feamle Gold Medalist'])\n",
        "g = g.sort_values(by='Feamle Gold Medalist',ascending=False).head()\n",
        "g.plot(x='Sport',y='Feamle Gold Medalist',kind='bar',color='red')\n",
        "print(g)"
      ],
      "execution_count": null,
      "outputs": [
        {
          "output_type": "stream",
          "name": "stdout",
          "text": [
            "         Sport  Feamle Gold Medalist\n",
            "0     Aquatics                   589\n",
            "1    Athletics                   389\n",
            "4   Gymnastics                   268\n",
            "17      Rowing                   217\n",
            "35  Volleyball                   166\n"
          ]
        },
        {
          "output_type": "display_data",
          "data": {
            "image/png": "[encoded data removed]",
            "text/plain": [
              "<Figure size 432x288 with 1 Axes>"
            ]
          },
          "metadata": {
            "needs_background": "light"
          }
        }
      ]
    }
  ]
}